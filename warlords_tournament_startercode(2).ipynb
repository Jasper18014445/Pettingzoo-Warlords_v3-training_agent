{
  "cells": [
    {
      "cell_type": "markdown",
      "metadata": {
        "id": "eyMZ4Uon6njM"
      },
      "source": [
        "# Warlords Multi-Agent Toernooi\n",
        "Dit notebook draait de Warlords-omgeving vanuit de Arcade Learning Environment (ALE) met 4 custom agenten.\n",
        "\n",
        "Dit notebook is ontworpen om te draaien in Google Colab. Als je hem lokaal draait, moet je mogelijk meer libraries installeren en controleren of hun versies compatibel zijn."
      ]
    },
    {
      "cell_type": "markdown",
      "metadata": {
        "id": "bQm4zaHRqpJk"
      },
      "source": [
        "## 1 Installeer libraries"
      ]
    },
    {
      "cell_type": "markdown",
      "metadata": {
        "id": "iLaQHWS8qseZ"
      },
      "source": [
        "Voer eerst de onderstaande codecell uit om de libraries te installeren."
      ]
    },
    {
      "cell_type": "code",
      "execution_count": 32,
      "metadata": {
        "id": "_kQOeOVD6njO"
      },
      "outputs": [],
      "source": [
        "# Install the necessary libraries\n",
        "#!pip install pettingzoo[atari]\n",
        "#!pip install \"autorom[accept-rom-license]\"\n",
        "#!pip install --find-links dist/ --no-cache-dir AutoROM[accept-rom-license]"
      ]
    },
    {
      "cell_type": "markdown",
      "metadata": {
        "id": "wLGYSIpiqFfR"
      },
      "source": [
        "**Herstart nu je kernel**. Na het herstarten kun je direct doorgaan met de volgende codecel."
      ]
    },
    {
      "cell_type": "markdown",
      "metadata": {
        "id": "pkDufSMZqwvr"
      },
      "source": [
        "## 2 Importeer libraries en download Atari ROMs"
      ]
    },
    {
      "cell_type": "markdown",
      "metadata": {
        "id": "r5KPzjpMrEah"
      },
      "source": [
        "Je krijgt een prompt om de AutoROM-overeenkomst te accepteren. Druk op \"Y\" wanneer je dit ziet."
      ]
    },
    {
      "cell_type": "code",
      "execution_count": 33,
      "metadata": {
        "id": "Vmnyd7Py6njP"
      },
      "outputs": [],
      "source": [
        "# Start AutoROM\n",
        "\n",
        "#!AutoROM\n",
        "\n",
        "# Import libraries\n",
        "from pettingzoo.atari import warlords_v3\n",
        "from pettingzoo.utils import BaseParallelWrapper\n",
        "import gymnasium as gym\n",
        "import numpy as np\n",
        "from collections import defaultdict, Counter\n",
        "import importlib\n",
        "import os\n",
        "import imageio"
      ]
    },
    {
      "cell_type": "markdown",
      "metadata": {
        "id": "dDLKenpdrJ71"
      },
      "source": [
        "## 3 Initialiseer agenten"
      ]
    },
    {
      "cell_type": "code",
      "execution_count": null,
      "metadata": {},
      "outputs": [],
      "source": []
    },
    {
      "cell_type": "code",
      "execution_count": 34,
      "metadata": {},
      "outputs": [],
      "source": [
        "import numpy as np\n",
        "import time\n",
        "from stable_baselines3 import PPO\n",
        "import numpy as np\n",
        "from pettingzoo.utils import wrappers\n",
        "\n",
        "class Agent1:\n",
        "    def __init__(self, model_path=\"ppo_warlords_10000.zip\"):\n",
        "        self.model = PPO.load(model_path)\n",
        "    \n",
        "    def act(self, observation):\n",
        "        # Process input (observation is a dict with 'obs' and possibly 'action_mask')\n",
        "        #start_time = time.time()\n",
        "        if isinstance(observation, dict):\n",
        "            obs = observation['obs']\n",
        "        else:\n",
        "            obs = observation\n",
        "\n",
        "        # Check shape and tile if needed\n",
        "        if obs.shape[1] == 160:  # width is 160\n",
        "            obs = np.tile(obs, (1, 4, 1))  # tile 4 times along width axis\n",
        "\n",
        "        # Convert to channel-first and add batch dimension\n",
        "        obs = np.transpose(obs, (2, 0, 1))  # (H, W, C) -> (C, H, W)\n",
        "        #obs = np.expand_dims(obs, axis=0)  # (1, C, H, W)\n",
        "        \n",
        "        action, _ = self.model.predict(obs, deterministic=True)\n",
        "        #duration = (time.time() - start_time) * 1000  # in ms\n",
        "        #print(f\"Act call took {duration:.2f} ms\")\n",
        "        return action[0]\n",
        "\n",
        "class Agent2:\n",
        "    def __init__(self, model_path=\"warlords_parallel_model.zip\"):\n",
        "        self.model = PPO.load(model_path)\n",
        "\n",
        "    def act(self, observation):\n",
        "        # Process input (observation is a dict with 'obs' and possibly 'action_mask')\n",
        "        #start_time = time.time()\n",
        "        if isinstance(observation, dict):\n",
        "            obs = observation['obs']\n",
        "        else:\n",
        "            obs = observation\n",
        "        \n",
        "        action, _ = self.model.predict(obs, deterministic=True)\n",
        "        #duration = (time.time() - start_time) * 1000  # in ms\n",
        "        #print(f\"Act call took {duration:.2f} ms\")\n",
        "        #print(\"ACTION:\",action)\n",
        "        return action\n",
        "    \n",
        "\"\"\"class Agent2:\n",
        "    def act(self, observation):\n",
        "        # Return a random action (6 possible in ALE Warlords)\n",
        "        return np.random.randint(6)\"\"\"\n",
        "class Agent3:\n",
        "    def act(self, observation):\n",
        "        # Return a random action (6 possible in ALE Warlords)\n",
        "        return np.random.randint(6)\n",
        "class Agent4:\n",
        "    def act(self, observation):\n",
        "        # Return a random action (6 possible in ALE Warlords)\n",
        "        return np.random.randint(6)\n"
      ]
    },
    {
      "cell_type": "markdown",
      "metadata": {
        "id": "O2Y6V3P-rSvd"
      },
      "source": [
        "In deze codecel importeren we de AI-agenten om Warlords te spelen. De bestanden met de agentklassen moeten zich in dezelfde map bevinden als dit notebook."
      ]
    },
    {
      "cell_type": "code",
      "execution_count": 35,
      "metadata": {
        "id": "BMSuElvIrRx6"
      },
      "outputs": [],
      "source": [
        "# Import the agent classes\n",
        "#from agent1 import Agent1\n",
        "#from agent2 import Agent2\n",
        "#from agent3 import Agent3\n",
        "#from agent4 import Agent4\n",
        "\n",
        "# Instantiate each agent (pass args if needed)\n",
        "agent_instances = [\n",
        "    Agent1(),\n",
        "    Agent2(),\n",
        "    Agent3(),\n",
        "    Agent4()\n",
        "]\n",
        "\n",
        "agent_names = ['Agent1', 'Agent2', 'Agent3', 'Agent4']\n",
        "scores = defaultdict(int)\n",
        "wins = Counter()"
      ]
    },
    {
      "cell_type": "markdown",
      "metadata": {
        "id": "KD8o2sL5rhVC"
      },
      "source": [
        "## 4 Speel het spel"
      ]
    },
    {
      "cell_type": "markdown",
      "metadata": {
        "id": "mkyFvSDArk3a"
      },
      "source": [
        "In deze sectie spelen de vier agenten Warlords. Aan het einde van elk spel wordt de score bijgehouden. De winnaar is de agent met de hoogste score."
      ]
    },
    {
      "cell_type": "code",
      "execution_count": 36,
      "metadata": {
        "id": "B7NsyrQ_vsD9"
      },
      "outputs": [],
      "source": [
        "# Create environment\n",
        "env = warlords_v3.env(render_mode=\"rgb_array\")\n",
        "\n",
        "# Prepare directory for videos\n",
        "video_dir = \"./warlords_videos\"\n",
        "os.makedirs(video_dir, exist_ok=True)"
      ]
    },
    {
      "cell_type": "markdown",
      "metadata": {
        "id": "LTYOrQwFvtsQ"
      },
      "source": [
        "De volgende codecel speelt het spel."
      ]
    },
    {
      "cell_type": "code",
      "execution_count": 37,
      "metadata": {
        "id": "ZTgwRJgw6njR"
      },
      "outputs": [],
      "source": [
        "# Function to run one game and record video\n",
        "def run_game(game_id):\n",
        "    env.reset()\n",
        "\n",
        "    # Map environment agents to their corresponding agent instances\n",
        "    agent_mapping = {\n",
        "        env.agents[i]: agent_instances[i]\n",
        "        for i in range(len(env.agents))\n",
        "    }\n",
        "\n",
        "    # Map environment agents to their corresponding agent names\n",
        "    agent_name_mapping = {\n",
        "        env.agents[i]: agent_names[i]\n",
        "        for i in range(len(env.agents))\n",
        "    }\n",
        "\n",
        "    # Reset scores\n",
        "    for agent in agent_names:\n",
        "        scores[agent] = 0\n",
        "\n",
        "    done = False\n",
        "    terminated = False\n",
        "    truncated = False\n",
        "\n",
        "    frames = []\n",
        "    count=0\n",
        "    MAX_STEPS = 50_000\n",
        "\n",
        "    for agent in env.agent_iter():\n",
        "        if count >= MAX_STEPS:\n",
        "            print(f\"Max steps ({MAX_STEPS}) reached. Ending game early.\")\n",
        "            break\n",
        "\n",
        "        observation, reward, termination, truncation, info = env.last()\n",
        "        scores[agent_name_mapping[agent]] += reward\n",
        "        \n",
        "\n",
        "        if reward > 0:\n",
        "            print(f\"Agent {agent_name_mapping[agent]} won the game!\")\n",
        "            wins[agent_name_mapping[agent]] += 1\n",
        "\n",
        "        if termination or truncation:\n",
        "            action = None\n",
        "        else:\n",
        "            agent_obj = agent_mapping[agent]\n",
        "            action = agent_obj.act(observation)\n",
        "\n",
        "        env.step(action)\n",
        "\n",
        "        frame = env.render()\n",
        "        frames.append(frame)\n",
        "\n",
        "        if count % 10_000 == 1:\n",
        "            print(\"FRAME\", count)\n",
        "        count += 1\n",
        "\n",
        "    env.close()\n",
        "\n",
        "    # Save video using imageio\n",
        "    video_path = os.path.join(video_dir, f\"game_{game_id}.mp4\")\n",
        "    imageio.mimsave(video_path, frames, fps=15)"
      ]
    },
    {
      "cell_type": "code",
      "execution_count": 38,
      "metadata": {
        "id": "Qc9igyLh6njR"
      },
      "outputs": [
        {
          "name": "stdout",
          "output_type": "stream",
          "text": [
            "Running game 1...\n",
            "FRAME 1\n",
            "FRAME 10001\n",
            "FRAME 20001\n",
            "FRAME 30001\n",
            "FRAME 40001\n"
          ]
        },
        {
          "name": "stderr",
          "output_type": "stream",
          "text": [
            "IMAGEIO FFMPEG_WRITER WARNING: input image is not divisible by macro_block_size=16, resizing from (160, 210) to (160, 224) to ensure video compatibility with most codecs and players. To prevent resizing, make your input image divisible by the macro_block_size or set the macro_block_size to 1 (risking incompatibility).\n"
          ]
        },
        {
          "name": "stdout",
          "output_type": "stream",
          "text": [
            "Max steps (50000) reached. Ending game early.\n",
            "Running game 2...\n",
            "FRAME 1\n",
            "FRAME 10001\n",
            "FRAME 20001\n",
            "FRAME 30001\n",
            "FRAME 40001\n"
          ]
        },
        {
          "name": "stderr",
          "output_type": "stream",
          "text": [
            "IMAGEIO FFMPEG_WRITER WARNING: input image is not divisible by macro_block_size=16, resizing from (160, 210) to (160, 224) to ensure video compatibility with most codecs and players. To prevent resizing, make your input image divisible by the macro_block_size or set the macro_block_size to 1 (risking incompatibility).\n"
          ]
        },
        {
          "name": "stdout",
          "output_type": "stream",
          "text": [
            "Max steps (50000) reached. Ending game early.\n",
            "Running game 3...\n",
            "FRAME 1\n",
            "FRAME 10001\n",
            "FRAME 20001\n",
            "FRAME 30001\n",
            "FRAME 40001\n"
          ]
        },
        {
          "name": "stderr",
          "output_type": "stream",
          "text": [
            "IMAGEIO FFMPEG_WRITER WARNING: input image is not divisible by macro_block_size=16, resizing from (160, 210) to (160, 224) to ensure video compatibility with most codecs and players. To prevent resizing, make your input image divisible by the macro_block_size or set the macro_block_size to 1 (risking incompatibility).\n"
          ]
        },
        {
          "name": "stdout",
          "output_type": "stream",
          "text": [
            "Max steps (50000) reached. Ending game early.\n",
            "\n",
            "Final Scores:\n",
            "Agent1: Total Reward = 0, Wins = 0\n",
            "Agent2: Total Reward = -1, Wins = 0\n",
            "Agent3: Total Reward = 0, Wins = 0\n",
            "Agent4: Total Reward = 0, Wins = 0\n",
            "No winners found.\n"
          ]
        }
      ],
      "source": [
        "# Run 10 games\n",
        "for game in range(3):\n",
        "    print(f\"Running game {game + 1}...\")\n",
        "    run_game(game_id=game)\n",
        "\n",
        "print(\"\\nFinal Scores:\")\n",
        "for agent in agent_names:\n",
        "    print(f\"{agent}: Total Reward = {scores[agent]}, Wins = {wins[agent]}\")\n",
        "\n",
        "try:\n",
        "    winner = wins.most_common(1)[0]\n",
        "    print(f\"Winner: {winner[0]} with {winner[1]} wins!\")\n",
        "except IndexError:\n",
        "    print(\"No winners found.\")"
      ]
    },
    {
      "cell_type": "code",
      "execution_count": 39,
      "metadata": {
        "id": "srB5S-mr6njR"
      },
      "outputs": [
        {
          "name": "stdout",
          "output_type": "stream",
          "text": [
            "\n",
            "Download the recorded games:\n"
          ]
        },
        {
          "data": {
            "text/html": [
              "<a href='./warlords_videos/game_0.mp4' target='_blank'>./warlords_videos/game_0.mp4</a><br>"
            ],
            "text/plain": [
              "/root/pettingzoo_test/warlords_videos/game_0.mp4"
            ]
          },
          "metadata": {},
          "output_type": "display_data"
        },
        {
          "data": {
            "text/html": [
              "<a href='./warlords_videos/game_1.mp4' target='_blank'>./warlords_videos/game_1.mp4</a><br>"
            ],
            "text/plain": [
              "/root/pettingzoo_test/warlords_videos/game_1.mp4"
            ]
          },
          "metadata": {},
          "output_type": "display_data"
        },
        {
          "data": {
            "text/html": [
              "<a href='./warlords_videos/game_2.mp4' target='_blank'>./warlords_videos/game_2.mp4</a><br>"
            ],
            "text/plain": [
              "/root/pettingzoo_test/warlords_videos/game_2.mp4"
            ]
          },
          "metadata": {},
          "output_type": "display_data"
        }
      ],
      "source": [
        "# Display download links for videos\n",
        "import glob\n",
        "from IPython.display import FileLink, display\n",
        "video_files = sorted(glob.glob(f\"{video_dir}/*.mp4\"))\n",
        "print(\"\\nDownload the recorded games:\")\n",
        "for file in video_files:\n",
        "    display(FileLink(file))"
      ]
    },
    {
      "cell_type": "code",
      "execution_count": null,
      "metadata": {},
      "outputs": [],
      "source": []
    }
  ],
  "metadata": {
    "colab": {
      "provenance": []
    },
    "kernelspec": {
      "display_name": "pettingzooenv",
      "language": "python",
      "name": "python3"
    },
    "language_info": {
      "codemirror_mode": {
        "name": "ipython",
        "version": 3
      },
      "file_extension": ".py",
      "mimetype": "text/x-python",
      "name": "python",
      "nbconvert_exporter": "python",
      "pygments_lexer": "ipython3",
      "version": "3.11.13"
    }
  },
  "nbformat": 4,
  "nbformat_minor": 0
}
